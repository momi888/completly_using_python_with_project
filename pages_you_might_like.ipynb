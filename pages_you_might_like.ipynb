{
 "cells": [
  {
   "cell_type": "code",
   "execution_count": 2,
   "id": "1f148ca8-5b6b-4c94-8271-f8254fd81e98",
   "metadata": {},
   "outputs": [],
   "source": [
    "import json"
   ]
  },
  {
   "cell_type": "code",
   "execution_count": 3,
   "id": "3327da88-0018-44f4-9bc4-4600c9f80b59",
   "metadata": {},
   "outputs": [],
   "source": [
    "#to load this json data\n",
    "def load_data(filename):\n",
    "    with open(filename,\"r\")as file:\n",
    "        return json.load(file)  "
   ]
  },
  {
   "cell_type": "code",
   "execution_count": 9,
   "id": "e8389d82-de45-4008-9534-253d67dcc48f",
   "metadata": {},
   "outputs": [
    {
     "ename": "NameError",
     "evalue": "name 'page_suggestion' is not defined",
     "output_type": "error",
     "traceback": [
      "\u001b[1;31m---------------------------------------------------------------------------\u001b[0m",
      "\u001b[1;31mNameError\u001b[0m                                 Traceback (most recent call last)",
      "Cell \u001b[1;32mIn[9], line 20\u001b[0m\n\u001b[0;32m     18\u001b[0m user_id\u001b[38;5;241m=\u001b[39m\u001b[38;5;241m2\u001b[39m\n\u001b[0;32m     19\u001b[0m data\u001b[38;5;241m=\u001b[39mload_data(\u001b[38;5;124m'\u001b[39m\u001b[38;5;124mdata3.json\u001b[39m\u001b[38;5;124m'\u001b[39m)\n\u001b[1;32m---> 20\u001b[0m rcc\u001b[38;5;241m=\u001b[39mpages_you_might_like(\u001b[38;5;241m2\u001b[39m,data)\n\u001b[0;32m     21\u001b[0m \u001b[38;5;28mprint\u001b[39m(\u001b[38;5;124mf\u001b[39m\u001b[38;5;124m\"\u001b[39m\u001b[38;5;124mpage_u_might_like for user\u001b[39m\u001b[38;5;132;01m{\u001b[39;00muser_id\u001b[38;5;132;01m}\u001b[39;00m\u001b[38;5;124m:\u001b[39m\u001b[38;5;132;01m{\u001b[39;00mrcc\u001b[38;5;132;01m}\u001b[39;00m\u001b[38;5;124m\"\u001b[39m)\n",
      "Cell \u001b[1;32mIn[9], line 14\u001b[0m, in \u001b[0;36mpages_you_might_like\u001b[1;34m(user_id, data)\u001b[0m\n\u001b[0;32m     12\u001b[0m         \u001b[38;5;28;01mfor\u001b[39;00m page \u001b[38;5;129;01min\u001b[39;00m pages:\n\u001b[0;32m     13\u001b[0m             \u001b[38;5;28;01mif\u001b[39;00m page \u001b[38;5;129;01mnot\u001b[39;00m \u001b[38;5;129;01min\u001b[39;00m user_liked_pages:\n\u001b[1;32m---> 14\u001b[0m                 page_suggestions[page]\u001b[38;5;241m=\u001b[39mpage_suggestion\u001b[38;5;241m.\u001b[39mget(page,\u001b[38;5;241m0\u001b[39m)\u001b[38;5;241m+\u001b[39m\u001b[38;5;28mlen\u001b[39m(shared_pages)\n\u001b[0;32m     15\u001b[0m sorted_pages\u001b[38;5;241m=\u001b[39m\u001b[38;5;28msorted\u001b[39m(page_suggestions\u001b[38;5;241m.\u001b[39mitems(),key\u001b[38;5;241m=\u001b[39m\u001b[38;5;28;01mlambda\u001b[39;00m x:x[\u001b[38;5;241m1\u001b[39m],reverse\u001b[38;5;241m=\u001b[39m\u001b[38;5;28;01mTrue\u001b[39;00m)\n\u001b[0;32m     16\u001b[0m \u001b[38;5;28;01mreturn\u001b[39;00m[id_of_page \u001b[38;5;28;01mfor\u001b[39;00m id_of_page, _ \u001b[38;5;129;01min\u001b[39;00m sorted_pages]\n",
      "\u001b[1;31mNameError\u001b[0m: name 'page_suggestion' is not defined"
     ]
    }
   ],
   "source": [
    "def pages_you_might_like(user_id,data):\n",
    "    user_pages={}\n",
    "    for user in data['users']:\n",
    "        user_pages[user['id']]=set(user['liked_pages'])\n",
    "    if user_id not in user_pages:\n",
    "        return[]\n",
    "    user_liked_pages=user_pages[user_id]\n",
    "    page_suggestions={}\n",
    "    for other_user,pages in user_pages.items():\n",
    "        if other_user!=user_id:\n",
    "            shared_pages=user_liked_pages.intersection(pages)\n",
    "            for page in pages:\n",
    "                if page not in user_liked_pages:\n",
    "                    page_suggestions[page]=page_suggestion.get(page,0)+len(shared_pages)\n",
    "    sorted_pages=sorted(page_suggestions.items(),key=lambda x:x[1],reverse=True)\n",
    "    return[id_of_page for id_of_page, _ in sorted_pages]\n",
    "\n",
    "user_id=2\n",
    "data=load_data('data3.json')\n",
    "rcc=pages_you_might_like(2,data)\n",
    "print(f\"page_u_might_like for user{user_id}:{rcc}\")      "
   ]
  },
  {
   "cell_type": "code",
   "execution_count": null,
   "id": "0e5723d9-ef6d-4d5d-9dfd-01c6318ce803",
   "metadata": {},
   "outputs": [],
   "source": []
  },
  {
   "cell_type": "code",
   "execution_count": null,
   "id": "d3f0e795-c4c2-4057-84ec-b98c90246447",
   "metadata": {},
   "outputs": [],
   "source": []
  }
 ],
 "metadata": {
  "kernelspec": {
   "display_name": "Python [conda env:base] *",
   "language": "python",
   "name": "conda-base-py"
  },
  "language_info": {
   "codemirror_mode": {
    "name": "ipython",
    "version": 3
   },
   "file_extension": ".py",
   "mimetype": "text/x-python",
   "name": "python",
   "nbconvert_exporter": "python",
   "pygments_lexer": "ipython3",
   "version": "3.12.7"
  }
 },
 "nbformat": 4,
 "nbformat_minor": 5
}
