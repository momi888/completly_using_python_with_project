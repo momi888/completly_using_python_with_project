{
 "cells": [
  {
   "cell_type": "code",
   "execution_count": 13,
   "id": "a39a066f-a9d5-4b49-8160-0faae158df85",
   "metadata": {},
   "outputs": [
    {
     "name": "stdout",
     "output_type": "stream",
     "text": [
      "Bad request\n",
      "Not Found\n",
      "unknown status\n",
      "End of Programme!\n"
     ]
    }
   ],
   "source": [
    "def http_status(code):\n",
    "    match code:\n",
    "        case(200):\n",
    "            return \"ok\"\n",
    "        case(400):\n",
    "            return \"Bad request\"\n",
    "        case(404):\n",
    "            return \"Not Found\"\n",
    "        case(500):\n",
    "            return \"internal server error\"\n",
    "        case _:\n",
    "            return \"unknown status\"\n",
    "print(http_status(400))\n",
    "print(http_status(404))           \n",
    "print(http_status(600))    \n",
    "print(\"End of Programme!\")"
   ]
  },
  {
   "cell_type": "code",
   "execution_count": null,
   "id": "7fc287ec-122a-4008-90d2-e749004b90d3",
   "metadata": {},
   "outputs": [],
   "source": []
  }
 ],
 "metadata": {
  "kernelspec": {
   "display_name": "Python [conda env:base] *",
   "language": "python",
   "name": "conda-base-py"
  },
  "language_info": {
   "codemirror_mode": {
    "name": "ipython",
    "version": 3
   },
   "file_extension": ".py",
   "mimetype": "text/x-python",
   "name": "python",
   "nbconvert_exporter": "python",
   "pygments_lexer": "ipython3",
   "version": "3.12.7"
  }
 },
 "nbformat": 4,
 "nbformat_minor": 5
}
