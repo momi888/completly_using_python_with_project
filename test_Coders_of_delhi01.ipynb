{
 "cells": [
  {
   "cell_type": "code",
   "execution_count": 1,
   "id": "fdb237a8-18cd-40bb-9961-49941da51790",
   "metadata": {},
   "outputs": [],
   "source": [
    "A = {\n",
    "    \"users\": [\n",
    "        {\"id\": 1, \"name\": \"Amit\", \"friends\": [2, 3], \"liked_pages\": [101]},\n",
    "        {\"id\": 2, \"name\": \"Priya\", \"friends\": [1, 4], \"liked_pages\": [102]},\n",
    "        {\"id\": 3, \"name\": \"Rahul\", \"friends\": [1], \"liked_pages\": [101, 103]},\n",
    "        {\"id\": 4, \"name\": \"Sara\", \"friends\": [2], \"liked_pages\": [104]}\n",
    "    ],\n",
    "    \"pages\": [\n",
    "        {\"id\": 101, \"name\": \"Python Developers\"},\n",
    "        {\"id\": 102, \"name\": \"Data Science Enthusiasts\"},\n",
    "        {\"id\": 103, \"name\": \"AI & ML Community\"},\n",
    "        {\"id\": 104, \"name\": \"Web Dev Hub\"}\n",
    "    ]\n",
    "}"
   ]
  },
  {
   "cell_type": "code",
   "execution_count": 2,
   "id": "c25887d2-518f-499b-9cc3-d16c4f743c22",
   "metadata": {},
   "outputs": [
    {
     "name": "stdout",
     "output_type": "stream",
     "text": [
      "<class 'dict'>\n"
     ]
    }
   ],
   "source": [
    "print(type(A))"
   ]
  },
  {
   "cell_type": "code",
   "execution_count": 3,
   "id": "c679cc2e-27dc-4752-ba0a-db727d7a3622",
   "metadata": {},
   "outputs": [],
   "source": [
    "import json"
   ]
  },
  {
   "cell_type": "code",
   "execution_count": 4,
   "id": "b77fbb61-a7ce-4c94-b76f-08f536bd3eee",
   "metadata": {},
   "outputs": [],
   "source": [
    "with open(\"test_data01.json\",\"w\")as B:\n",
    "    json.dump(A,B)"
   ]
  },
  {
   "cell_type": "code",
   "execution_count": 37,
   "id": "176ad3dd-d2c5-49f6-a05f-86b109180254",
   "metadata": {},
   "outputs": [],
   "source": [
    "def load_data(file_name):\n",
    "    with open(file_name,\"r\")as file:\n",
    "        return json.load(file)    "
   ]
  },
  {
   "cell_type": "code",
   "execution_count": 54,
   "id": "3f6bb027-10b8-47ea-af0a-14503090dbba",
   "metadata": {},
   "outputs": [
    {
     "name": "stdout",
     "output_type": "stream",
     "text": [
      "{'users': [{'id': 1, 'name': 'Amit', 'friends': [2, 3], 'liked_pages': [101]}, {'id': 2, 'name': 'Priya', 'friends': [1, 4], 'liked_pages': [102]}, {'id': 3, 'name': 'Rahul', 'friends': [1], 'liked_pages': [101, 103]}, {'id': 4, 'name': 'Sara', 'friends': [2], 'liked_pages': [104]}], 'pages': [{'id': 101, 'name': 'Python Developers'}, {'id': 102, 'name': 'Data Science Enthusiasts'}, {'id': 103, 'name': 'AI & ML Community'}, {'id': 104, 'name': 'Web Dev Hub'}]}\n"
     ]
    }
   ],
   "source": [
    "A=load_data(\"test_data01.json\")\n",
    "print(A)"
   ]
  },
  {
   "cell_type": "code",
   "execution_count": 56,
   "id": "816cd7c6-04a5-46d1-b482-5cb5d79ab526",
   "metadata": {},
   "outputs": [
    {
     "name": "stdout",
     "output_type": "stream",
     "text": [
      "<class 'dict'>\n"
     ]
    }
   ],
   "source": [
    "print(type(load_data(\"test_data01.json\")))"
   ]
  },
  {
   "cell_type": "code",
   "execution_count": 90,
   "id": "5d839235-d34a-42a8-b8c7-8d056a7e6364",
   "metadata": {},
   "outputs": [
    {
     "name": "stdout",
     "output_type": "stream",
     "text": [
      "details of users with their connection and page like by them:\n",
      "id_number 1 who is \"Amit\" with his friend [2, 3] and liked_pages is:[101]\n",
      "id_number 2 who is \"Priya\" with his friend [1, 4] and liked_pages is:[102]\n",
      "id_number 3 who is \"Rahul\" with his friend [1] and liked_pages is:[101, 103]\n",
      "id_number 4 who is \"Sara\" with his friend [2] and liked_pages is:[104]\n",
      "\n",
      "id and name of the book:\n",
      "id 101 with name Python Developers\n",
      "id 102 with name Data Science Enthusiasts\n",
      "id 103 with name AI & ML Community\n",
      "id 104 with name Web Dev Hub\n"
     ]
    }
   ],
   "source": [
    "def display_user(data):\n",
    "    print(\"details of users with their connection and page like by them:\")\n",
    "    for user in A['users']:\n",
    "        print(f\"id_number {user['id']} who is \\\"{user['name']}\\\" with his friend {user['friends']} and liked_pages is:{user['liked_pages']}\")\n",
    "    print(\"\\nid and name of the book:\")\n",
    "    for page in A['pages']:\n",
    "        print(f\"id {page['id']} with name {page['name']}\")\n",
    "display_user(A)\n",
    "        \n",
    "    "
   ]
  },
  {
   "cell_type": "code",
   "execution_count": null,
   "id": "c64372dc-8eb3-4b98-b340-1a1b72ae5565",
   "metadata": {},
   "outputs": [],
   "source": []
  }
 ],
 "metadata": {
  "kernelspec": {
   "display_name": "Python [conda env:base] *",
   "language": "python",
   "name": "conda-base-py"
  },
  "language_info": {
   "codemirror_mode": {
    "name": "ipython",
    "version": 3
   },
   "file_extension": ".py",
   "mimetype": "text/x-python",
   "name": "python",
   "nbconvert_exporter": "python",
   "pygments_lexer": "ipython3",
   "version": "3.12.7"
  }
 },
 "nbformat": 4,
 "nbformat_minor": 5
}
