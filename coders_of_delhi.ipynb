{
 "cells": [
  {
   "cell_type": "code",
   "execution_count": 1,
   "id": "c3a5344c-d0bc-4f5e-be5b-2b32940ecbdd",
   "metadata": {},
   "outputs": [],
   "source": [
    "import json"
   ]
  },
  {
   "cell_type": "code",
   "execution_count": 2,
   "id": "108a15d1-8be5-4f0d-9f49-acb0cddb1f51",
   "metadata": {},
   "outputs": [],
   "source": [
    "data={\n",
    "    \"users\": [\n",
    "        {\"id\": 1, \"name\": \"Amit\", \"friends\": [2, 3], \"liked_pages\": [101]},\n",
    "        {\"id\": 2, \"name\": \"Priya\", \"friends\": [1, 4], \"liked_pages\": [102]},\n",
    "        {\"id\": 3, \"name\": \"Rahul\", \"friends\": [1], \"liked_pages\": [101, 103]},\n",
    "        {\"id\": 4, \"name\": \"Sara\", \"friends\": [2], \"liked_pages\": [104]}\n",
    "    ],\n",
    "    \"pages\": [\n",
    "        {\"id\": 101, \"name\": \"Python Developers\"},\n",
    "        {\"id\": 102, \"name\": \"Data Science Enthusiasts\"},\n",
    "        {\"id\": 103, \"name\": \"AI & ML Community\"},\n",
    "        {\"id\": 104, \"name\": \"Web Dev Hub\"}\n",
    "    ]\n",
    "}"
   ]
  },
  {
   "cell_type": "code",
   "execution_count": 3,
   "id": "f6e78f5e-0aec-412a-9039-42a6850977a8",
   "metadata": {},
   "outputs": [],
   "source": [
    "with open(\"data3.json\",\"w\") as file:\n",
    "    (json.dump(data,file))"
   ]
  },
  {
   "cell_type": "code",
   "execution_count": 4,
   "id": "62f28fc9-21ee-4344-a0f8-dcb792a9da4a",
   "metadata": {},
   "outputs": [
    {
     "name": "stdout",
     "output_type": "stream",
     "text": [
      "<class '_io.TextIOWrapper'>\n"
     ]
    }
   ],
   "source": [
    "print(type(file))"
   ]
  },
  {
   "cell_type": "code",
   "execution_count": 5,
   "id": "1ac80e28-70c5-4bbb-a16a-41d456328f0a",
   "metadata": {},
   "outputs": [],
   "source": [
    "def load_data(filename):\n",
    "    with open (filename,\"r\") as F:\n",
    "        data1=json.load(F)\n",
    "        return data1\n",
    "    "
   ]
  },
  {
   "cell_type": "code",
   "execution_count": 9,
   "id": "43d28ce6-b661-428f-919e-91b27f268250",
   "metadata": {},
   "outputs": [],
   "source": [
    "A=load_data(\"data3.json\")"
   ]
  },
  {
   "cell_type": "code",
   "execution_count": 11,
   "id": "ee855c93-1a96-4c10-b207-34b6aeb5770c",
   "metadata": {},
   "outputs": [
    {
     "name": "stdout",
     "output_type": "stream",
     "text": [
      "{'users': [{'id': 1, 'name': 'Amit', 'friends': [2, 3], 'liked_pages': [101]}, {'id': 2, 'name': 'Priya', 'friends': [1, 4], 'liked_pages': [102]}, {'id': 3, 'name': 'Rahul', 'friends': [1], 'liked_pages': [101, 103]}, {'id': 4, 'name': 'Sara', 'friends': [2], 'liked_pages': [104]}], 'pages': [{'id': 101, 'name': 'Python Developers'}, {'id': 102, 'name': 'Data Science Enthusiasts'}, {'id': 103, 'name': 'AI & ML Community'}, {'id': 104, 'name': 'Web Dev Hub'}]}\n",
      "<class 'dict'>\n"
     ]
    }
   ],
   "source": [
    "print(A)\n",
    "print(type(A))"
   ]
  },
  {
   "cell_type": "code",
   "execution_count": 13,
   "id": "15ffac70-a0ce-4305-bd85-85baed0c20bb",
   "metadata": {},
   "outputs": [
    {
     "name": "stdout",
     "output_type": "stream",
     "text": [
      "user and their connection according to like pages:\n",
      "\n",
      "ID:1 who is Amit is friend with:[2, 3] and liked pages are:[101]\n",
      "\n",
      "ID:2 who is Priya is friend with:[1, 4] and liked pages are:[102]\n",
      "\n",
      "ID:3 who is Rahul is friend with:[1] and liked pages are:[101, 103]\n",
      "\n",
      "ID:4 who is Sara is friend with:[2] and liked pages are:[104]\n",
      "\n",
      "pages information:\n",
      "\n",
      "101 name is: Python Developers\n",
      "\n",
      "102 name is: Data Science Enthusiasts\n",
      "\n",
      "103 name is: AI & ML Community\n",
      "\n",
      "104 name is: Web Dev Hub\n",
      "\n"
     ]
    }
   ],
   "source": [
    "def display_user(data):\n",
    "    print(\"user and their connection according to like pages:\\n\")\n",
    "    for user in A['users']:\n",
    "        print(f\"ID:{user['id']} who is {user['name']} is friend with:{user['friends']} and liked pages are:{user['liked_pages']}\\n\")\n",
    "    print(\"pages information:\\n\")\n",
    "    for page in A['pages']:\n",
    "        print(f\"{page['id']} name is: {page['name']}\\n\")\n",
    "display_user(A)\n"
   ]
  },
  {
   "cell_type": "code",
   "execution_count": null,
   "id": "9d9a5e33-d062-42bf-ae37-218fa6c0c1bd",
   "metadata": {},
   "outputs": [],
   "source": []
  }
 ],
 "metadata": {
  "kernelspec": {
   "display_name": "Python [conda env:base] *",
   "language": "python",
   "name": "conda-base-py"
  },
  "language_info": {
   "codemirror_mode": {
    "name": "ipython",
    "version": 3
   },
   "file_extension": ".py",
   "mimetype": "text/x-python",
   "name": "python",
   "nbconvert_exporter": "python",
   "pygments_lexer": "ipython3",
   "version": "3.12.7"
  }
 },
 "nbformat": 4,
 "nbformat_minor": 5
}
