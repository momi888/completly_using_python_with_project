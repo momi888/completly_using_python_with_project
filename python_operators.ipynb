{
 "cells": [
  {
   "cell_type": "markdown",
   "id": "a2f7903b-93bf-4e28-9fbd-eab4f563c1b4",
   "metadata": {},
   "source": [
    "                    python operators\n",
    "1.Arthmetics operators - used for basic mathematical operations.\n",
    "\n",
    "2.comparison operators - compare values and return true or false.\n",
    "\n",
    "3.Logical operators - use to combine conditional statements.\n",
    "\n",
    "4.Bitwise operators - perform bit-level operations.\n",
    "\n",
    "5.Assigment operators - used to assign values to variables.\n",
    "\n",
    "6.Membership and identity operators - check for presence and object identity."
   ]
  },
  {
   "cell_type": "markdown",
   "id": "536c083a-496e-4577-b73a-21cb02651aac",
   "metadata": {},
   "source": [
    "1.Arthmetics operators:\n",
    "\n",
    "a=20\n",
    "\n",
    "b=10\n",
    "\n",
    "print(a+b) #30\n",
    "\n",
    "print(a-b) #10\n",
    "\n",
    "print(a*b) #200\n",
    "\n",
    "print(2**3) #8\n",
    "\n",
    "print(a/b) #2.0\n",
    "\n",
    "print(a//b) #2\n",
    "\n",
    "print(a%b) #modulus give-0(remainder)"
   ]
  },
  {
   "cell_type": "code",
   "execution_count": 16,
   "id": "7c36b16d-d074-48f0-a6ff-fdee8d856c50",
   "metadata": {},
   "outputs": [
    {
     "name": "stdout",
     "output_type": "stream",
     "text": [
      "False\n",
      "True\n",
      "True\n",
      "False\n",
      "True\n",
      "False\n"
     ]
    }
   ],
   "source": [
    "#comparision operators:\n",
    "\n",
    "print (a==b)\n",
    "print(a!=b)\n",
    "print(a>b)\n",
    "print(a<b)\n",
    "print(a>=b)\n",
    "print(a<=b)\n"
   ]
  },
  {
   "cell_type": "code",
   "execution_count": 36,
   "id": "62955e10-5b87-4e1a-8b9e-01aee7a84cfc",
   "metadata": {},
   "outputs": [
    {
     "name": "stdout",
     "output_type": "stream",
     "text": [
      "False\n",
      "True\n",
      "False True\n"
     ]
    }
   ],
   "source": [
    "#Logical operators\n",
    "a=True\n",
    "b=False\n",
    "print(a and b)\n",
    "print(a or b)\n",
    "print(not a, not b)"
   ]
  },
  {
   "cell_type": "code",
   "execution_count": 41,
   "id": "bca39b32-6df3-45de-ae18-30a772cfb119",
   "metadata": {},
   "outputs": [
    {
     "name": "stdout",
     "output_type": "stream",
     "text": [
      "2\n",
      "14\n"
     ]
    }
   ],
   "source": [
    "# Bitwise operators\n",
    "a=10\n",
    "b=6\n",
    "print(a&b)\n",
    "print(a|b)"
   ]
  },
  {
   "cell_type": "code",
   "execution_count": 81,
   "id": "11941558-2141-4730-aa5f-0c5d952ec0e2",
   "metadata": {},
   "outputs": [
    {
     "name": "stdout",
     "output_type": "stream",
     "text": [
      "20\n",
      "9\n",
      "8\n",
      "3.0\n"
     ]
    }
   ],
   "source": [
    "# Assigment operators\n",
    "a=5\n",
    "b=10\n",
    "c=4\n",
    "d=6\n",
    "a+=15\n",
    "b-=1\n",
    "c*=2\n",
    "d/=2\n",
    "print(a)\n",
    "print(b)\n",
    "print(c)\n",
    "print(d)"
   ]
  },
  {
   "cell_type": "code",
   "execution_count": 96,
   "id": "0071adc3-4005-46f9-bfd7-a3ded04d6266",
   "metadata": {},
   "outputs": [
    {
     "name": "stdout",
     "output_type": "stream",
     "text": [
      "True\n",
      "False\n",
      "True\n",
      "True\n",
      "False\n",
      "True\n"
     ]
    }
   ],
   "source": [
    "list=[10,75,23,95,64]\n",
    "print(10 in list)\n",
    "print(11 in list)\n",
    "print(11 not in list)\n",
    "print(10 in list)\n",
    "print(a is b)\n",
    "print(a is not b)"
   ]
  }
 ],
 "metadata": {
  "kernelspec": {
   "display_name": "Python [conda env:base] *",
   "language": "python",
   "name": "conda-base-py"
  },
  "language_info": {
   "codemirror_mode": {
    "name": "ipython",
    "version": 3
   },
   "file_extension": ".py",
   "mimetype": "text/x-python",
   "name": "python",
   "nbconvert_exporter": "python",
   "pygments_lexer": "ipython3",
   "version": "3.12.7"
  }
 },
 "nbformat": 4,
 "nbformat_minor": 5
}
