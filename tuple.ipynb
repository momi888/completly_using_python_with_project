{
 "cells": [
  {
   "cell_type": "code",
   "execution_count": 17,
   "id": "51fe0ef4-9e52-4443-b0a8-009657e0672d",
   "metadata": {},
   "outputs": [
    {
     "name": "stdout",
     "output_type": "stream",
     "text": [
      "<class 'tuple'>\n"
     ]
    }
   ],
   "source": [
    "source=('MOHIT',56,23,56)\n",
    "print(type(source))"
   ]
  },
  {
   "cell_type": "code",
   "execution_count": 21,
   "id": "8b6550e5-a1c0-46f7-91da-610f90c7c604",
   "metadata": {},
   "outputs": [],
   "source": [
    "NAME,MARKS_OUT_OF_60,AGE,ANOTHER_MARKS=source"
   ]
  },
  {
   "cell_type": "code",
   "execution_count": 23,
   "id": "5ba1c1b7-ef7c-4ddf-abf2-e7450b065a6f",
   "metadata": {},
   "outputs": [
    {
     "name": "stdout",
     "output_type": "stream",
     "text": [
      "MOHIT 56 23\n"
     ]
    }
   ],
   "source": [
    "print(NAME,MARKS_OUT_OF_60,AGE)"
   ]
  },
  {
   "cell_type": "code",
   "execution_count": 25,
   "id": "5c4c5ee9-b3e5-432a-a093-3c5cc05e6c94",
   "metadata": {},
   "outputs": [
    {
     "name": "stdout",
     "output_type": "stream",
     "text": [
      "23\n"
     ]
    }
   ],
   "source": [
    "print(source[2])"
   ]
  },
  {
   "cell_type": "code",
   "execution_count": 27,
   "id": "eea09045-9694-4f4b-be92-b8e7463f09de",
   "metadata": {},
   "outputs": [
    {
     "data": {
      "text/plain": [
       "2"
      ]
     },
     "execution_count": 27,
     "metadata": {},
     "output_type": "execute_result"
    }
   ],
   "source": [
    "source.count(56)"
   ]
  },
  {
   "cell_type": "code",
   "execution_count": null,
   "id": "f819a0a5-a59d-4486-93e1-d8f6423fbb74",
   "metadata": {},
   "outputs": [],
   "source": []
  },
  {
   "cell_type": "code",
   "execution_count": null,
   "id": "3356659c-9b8e-46dd-afdf-a691ec0c374d",
   "metadata": {},
   "outputs": [],
   "source": []
  }
 ],
 "metadata": {
  "kernelspec": {
   "display_name": "Python [conda env:base] *",
   "language": "python",
   "name": "conda-base-py"
  },
  "language_info": {
   "codemirror_mode": {
    "name": "ipython",
    "version": 3
   },
   "file_extension": ".py",
   "mimetype": "text/x-python",
   "name": "python",
   "nbconvert_exporter": "python",
   "pygments_lexer": "ipython3",
   "version": "3.12.7"
  }
 },
 "nbformat": 4,
 "nbformat_minor": 5
}
