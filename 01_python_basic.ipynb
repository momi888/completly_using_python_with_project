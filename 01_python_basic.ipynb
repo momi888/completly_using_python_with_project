{
 "cells": [
  {
   "cell_type": "code",
   "execution_count": 2,
   "id": "9539bec2-71b7-430f-a6b2-b8e057023246",
   "metadata": {},
   "outputs": [
    {
     "name": "stdout",
     "output_type": "stream",
     "text": [
      "sum of 35 and 4 is: 39\n"
     ]
    }
   ],
   "source": [
    "a=35\n",
    "b=4\n",
    "print(f\"sum of {a} and {b} is: {a+b}\")"
   ]
  },
  {
   "cell_type": "code",
   "execution_count": 11,
   "id": "4ace7961-7849-4443-946f-f832f01d4be6",
   "metadata": {},
   "outputs": [
    {
     "name": "stdout",
     "output_type": "stream",
     "text": [
      "Hello world\n"
     ]
    }
   ],
   "source": [
    "print(\"Hello world\") #This will print hello world on the screen"
   ]
  },
  {
   "cell_type": "code",
   "execution_count": null,
   "id": "94a399c8-5311-49c3-9bae-7e73a474e72d",
   "metadata": {},
   "outputs": [],
   "source": []
  }
 ],
 "metadata": {
  "kernelspec": {
   "display_name": "Python [conda env:base] *",
   "language": "python",
   "name": "conda-base-py"
  },
  "language_info": {
   "codemirror_mode": {
    "name": "ipython",
    "version": 3
   },
   "file_extension": ".py",
   "mimetype": "text/x-python",
   "name": "python",
   "nbconvert_exporter": "python",
   "pygments_lexer": "ipython3",
   "version": "3.12.7"
  }
 },
 "nbformat": 4,
 "nbformat_minor": 5
}
