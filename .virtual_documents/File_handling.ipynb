file=open("text.txt","r")
file.readlines()





file.close()


with open("Mohit.txt","w")as file:
    file.writelines(["this is the simplest way to learn DataScience\n","this is the next line\n"])


import os
if os.path.exists("example.txt"):
    print("File exists!")
else:
    print("File not found!")


import os
if os.path.exists("Mohit.txt"):
    print("file exists!")
else:
    print("file not found!")


import os
if os.path.exists("example.txt"):
    os.remove("example.txt")
    print("File remove.")
else:
    print("File does not exist")


import os
if os.path.exists("example.txt"):
    print("File exists")
else:
    print("File does not exits")


import os
if os.path.exists("example.txt"):
    os.remove("example.txt")
    print("File removed")
else:
    print("File does not exists")


s="My life is full of struggles, and I am working very hard to reach my goal."
with open("My_life","w") as file2:
    print(file2.write(s))
    
with open("My_life","r") as file:
    print(file.readlines())


file=open("text.txt","a")
file.write("\nThis is the additional line")
file.close()


with open("Mohit.txt","r") as file:
    print(file.read())



