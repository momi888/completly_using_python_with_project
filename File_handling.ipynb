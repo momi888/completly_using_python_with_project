{
 "cells": [
  {
   "cell_type": "code",
   "execution_count": 28,
   "id": "fe1f6f1a-3d7d-41b0-92d6-60aeabb4bed4",
   "metadata": {},
   "outputs": [
    {
     "data": {
      "text/plain": [
       "['My name is mohit singh and currently i am prusing my msc from chandigarh university.\\n',\n",
       " 'I am very smart guy.\\n',\n",
       " 'This is the additional line\\n',\n",
       " 'This is the additional line\\n',\n",
       " 'This is the additional line\\n',\n",
       " 'This is the additional line\\n',\n",
       " 'This is the additional line\\n',\n",
       " 'This is the additional line']"
      ]
     },
     "execution_count": 28,
     "metadata": {},
     "output_type": "execute_result"
    }
   ],
   "source": [
    "file=open(\"text.txt\",\"r\")\n",
    "file.readlines()"
   ]
  },
  {
   "cell_type": "code",
   "execution_count": null,
   "id": "1f5e2761-dbc3-42e7-88fa-c7546b5e635b",
   "metadata": {},
   "outputs": [],
   "source": []
  },
  {
   "cell_type": "code",
   "execution_count": 3,
   "id": "d90c464e-62c7-4460-b83d-9674a49a86ab",
   "metadata": {},
   "outputs": [],
   "source": [
    "file.close()"
   ]
  },
  {
   "cell_type": "code",
   "execution_count": 38,
   "id": "3b78fadf-94c1-40d8-99f4-a2b15c1ed32b",
   "metadata": {},
   "outputs": [],
   "source": [
    "with open(\"Mohit.txt\",\"w\")as file:\n",
    "    file.writelines([\"this is the simplest way to learn DataScience\\n\",\"this is the next line\\n\"])"
   ]
  },
  {
   "cell_type": "code",
   "execution_count": 5,
   "id": "6c4df12e-ea7a-4af8-877d-f70223579487",
   "metadata": {},
   "outputs": [
    {
     "name": "stdout",
     "output_type": "stream",
     "text": [
      "File not found!\n"
     ]
    }
   ],
   "source": [
    "import os\n",
    "if os.path.exists(\"example.txt\"):\n",
    "    print(\"File exists!\")\n",
    "else:\n",
    "    print(\"File not found!\")"
   ]
  },
  {
   "cell_type": "code",
   "execution_count": 6,
   "id": "11b7a889-7514-46b6-a72b-02d12d4ea1e5",
   "metadata": {},
   "outputs": [
    {
     "name": "stdout",
     "output_type": "stream",
     "text": [
      "file exists!\n"
     ]
    }
   ],
   "source": [
    "import os\n",
    "if os.path.exists(\"Mohit.txt\"):\n",
    "    print(\"file exists!\")\n",
    "else:\n",
    "    print(\"file not found!\")"
   ]
  },
  {
   "cell_type": "code",
   "execution_count": 7,
   "id": "f9049bdf-a98a-438e-9a31-58cfabc4f0f1",
   "metadata": {},
   "outputs": [
    {
     "name": "stdout",
     "output_type": "stream",
     "text": [
      "File does not exist\n"
     ]
    }
   ],
   "source": [
    "import os\n",
    "if os.path.exists(\"example.txt\"):\n",
    "    os.remove(\"example.txt\")\n",
    "    print(\"File remove.\")\n",
    "else:\n",
    "    print(\"File does not exist\")"
   ]
  },
  {
   "cell_type": "code",
   "execution_count": 8,
   "id": "8192be0a-241b-40c4-9184-0462ed00156f",
   "metadata": {},
   "outputs": [
    {
     "name": "stdout",
     "output_type": "stream",
     "text": [
      "File does not exits\n"
     ]
    }
   ],
   "source": [
    "import os\n",
    "if os.path.exists(\"example.txt\"):\n",
    "    print(\"File exists\")\n",
    "else:\n",
    "    print(\"File does not exits\")"
   ]
  },
  {
   "cell_type": "code",
   "execution_count": 9,
   "id": "7b0572af-e7ea-4586-8cb4-d1a2dd2cb306",
   "metadata": {},
   "outputs": [
    {
     "name": "stdout",
     "output_type": "stream",
     "text": [
      "File does not exists\n"
     ]
    }
   ],
   "source": [
    "import os\n",
    "if os.path.exists(\"example.txt\"):\n",
    "    os.remove(\"example.txt\")\n",
    "    print(\"File removed\")\n",
    "else:\n",
    "    print(\"File does not exists\")"
   ]
  },
  {
   "cell_type": "code",
   "execution_count": 46,
   "id": "608f3dc6-7058-42e7-ab83-0659961e64e4",
   "metadata": {},
   "outputs": [
    {
     "name": "stdout",
     "output_type": "stream",
     "text": [
      "74\n",
      "['My life is full of struggles, and I am working very hard to reach my goal.']\n"
     ]
    }
   ],
   "source": [
    "s=\"My life is full of struggles, and I am working very hard to reach my goal.\"\n",
    "with open(\"My_life\",\"w\") as file2:\n",
    "    print(file2.write(s))\n",
    "    \n",
    "with open(\"My_life\",\"r\") as file:\n",
    "    print(file.readlines())"
   ]
  },
  {
   "cell_type": "code",
   "execution_count": 26,
   "id": "fce6ef00-13c1-4455-9dda-2566465b9bcb",
   "metadata": {},
   "outputs": [],
   "source": [
    "file=open(\"text.txt\",\"a\")\n",
    "file.write(\"\\nThis is the additional line\")\n",
    "file.close()"
   ]
  },
  {
   "cell_type": "code",
   "execution_count": 40,
   "id": "99722522-5ee9-4695-b3b0-3e46ad4cc46a",
   "metadata": {},
   "outputs": [
    {
     "name": "stdout",
     "output_type": "stream",
     "text": [
      "this is the simplest way to learn DataScience\n",
      "this is the next line\n",
      "\n"
     ]
    }
   ],
   "source": [
    "with open(\"Mohit.txt\",\"r\") as file:\n",
    "    print(file.read())"
   ]
  },
  {
   "cell_type": "code",
   "execution_count": null,
   "id": "2a45780a-43c2-4d5f-a939-8de100938c69",
   "metadata": {},
   "outputs": [],
   "source": []
  }
 ],
 "metadata": {
  "kernelspec": {
   "display_name": "Python [conda env:base] *",
   "language": "python",
   "name": "conda-base-py"
  },
  "language_info": {
   "codemirror_mode": {
    "name": "ipython",
    "version": 3
   },
   "file_extension": ".py",
   "mimetype": "text/x-python",
   "name": "python",
   "nbconvert_exporter": "python",
   "pygments_lexer": "ipython3",
   "version": "3.12.7"
  }
 },
 "nbformat": 4,
 "nbformat_minor": 5
}
