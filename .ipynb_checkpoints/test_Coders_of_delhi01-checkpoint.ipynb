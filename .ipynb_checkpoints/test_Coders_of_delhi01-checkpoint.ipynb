{
 "cells": [
  {
   "cell_type": "code",
   "execution_count": 9,
   "id": "fdb237a8-18cd-40bb-9961-49941da51790",
   "metadata": {},
   "outputs": [],
   "source": [
    "A = {\n",
    "    \"users\": [\n",
    "        {\"id\": 1, \"name\": \"Amit\", \"friends\": [2, 3], \"liked_pages\": [101]},\n",
    "        {\"id\": 2, \"name\": \"Priya\", \"friends\": [1, 4], \"liked_pages\": [102]},\n",
    "        {\"id\": 3, \"name\": \"Rahul\", \"friends\": [1], \"liked_pages\": [101, 103]},\n",
    "        {\"id\": 4, \"name\": \"Sara\", \"friends\": [2], \"liked_pages\": [104]}\n",
    "    ],\n",
    "    \"pages\": [\n",
    "        {\"id\": 101, \"name\": \"Python Developers\"},\n",
    "        {\"id\": 102, \"name\": \"Data Science Enthusiasts\"},\n",
    "        {\"id\": 103, \"name\": \"AI & ML Community\"},\n",
    "        {\"id\": 104, \"name\": \"Web Dev Hub\"}\n",
    "    ]\n",
    "}"
   ]
  },
  {
   "cell_type": "code",
   "execution_count": 11,
   "id": "c25887d2-518f-499b-9cc3-d16c4f743c22",
   "metadata": {},
   "outputs": [
    {
     "name": "stdout",
     "output_type": "stream",
     "text": [
      "<class 'dict'>\n"
     ]
    }
   ],
   "source": [
    "print(type(A))"
   ]
  },
  {
   "cell_type": "code",
   "execution_count": 13,
   "id": "c679cc2e-27dc-4752-ba0a-db727d7a3622",
   "metadata": {},
   "outputs": [],
   "source": [
    "import json"
   ]
  },
  {
   "cell_type": "code",
   "execution_count": 20,
   "id": "b77fbb61-a7ce-4c94-b76f-08f536bd3eee",
   "metadata": {},
   "outputs": [],
   "source": [
    "with open(\"test_data01.json\",\"w\")as B:\n",
    "    json.dump(A,B)"
   ]
  },
  {
   "cell_type": "code",
   "execution_count": null,
   "id": "176ad3dd-d2c5-49f6-a05f-86b109180254",
   "metadata": {},
   "outputs": [],
   "source": []
  }
 ],
 "metadata": {
  "kernelspec": {
   "display_name": "Python [conda env:base] *",
   "language": "python",
   "name": "conda-base-py"
  },
  "language_info": {
   "codemirror_mode": {
    "name": "ipython",
    "version": 3
   },
   "file_extension": ".py",
   "mimetype": "text/x-python",
   "name": "python",
   "nbconvert_exporter": "python",
   "pygments_lexer": "ipython3",
   "version": "3.12.7"
  }
 },
 "nbformat": 4,
 "nbformat_minor": 5
}
