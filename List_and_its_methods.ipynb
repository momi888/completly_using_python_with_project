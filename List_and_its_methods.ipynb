{
 "cells": [
  {
   "cell_type": "code",
   "execution_count": 1,
   "id": "085f8e23-5f46-4eb6-a65b-60ee981fe371",
   "metadata": {},
   "outputs": [
    {
     "name": "stdout",
     "output_type": "stream",
     "text": [
      "['M', 'K', 'R', 'N', 46, 48, 49, 50, 45, 45, 67, 'N']\n"
     ]
    }
   ],
   "source": [
    "a=[\"M\",\"K\",\"R\",\"N\",46,48,49,50]\n",
    "a.append(45)\n",
    "a.extend([45,67,\"N\"])\n",
    "\n",
    "print(a)"
   ]
  },
  {
   "cell_type": "code",
   "execution_count": 2,
   "id": "c95a5648-bcb4-449a-a166-4fe84881346f",
   "metadata": {},
   "outputs": [
    {
     "name": "stdout",
     "output_type": "stream",
     "text": [
      "['M', 'R', 'N', 46, 48, 49, 50, 45, 45, 67, 'N']\n"
     ]
    }
   ],
   "source": [
    "a.pop(1)\n",
    "print(a)"
   ]
  },
  {
   "cell_type": "code",
   "execution_count": 3,
   "id": "086862a4-8249-4c6a-ae9a-6d65e16435fd",
   "metadata": {},
   "outputs": [
    {
     "name": "stdout",
     "output_type": "stream",
     "text": [
      "['M', 'R', 'N', 46, 48, 49, 50, 45, 45, 'N']\n"
     ]
    }
   ],
   "source": [
    "a.remove(67)\n",
    "print(a)"
   ]
  },
  {
   "cell_type": "code",
   "execution_count": 4,
   "id": "633b1ea8-1ef8-4384-b992-8ee56f9b4e35",
   "metadata": {},
   "outputs": [
    {
     "name": "stdout",
     "output_type": "stream",
     "text": [
      "2\n"
     ]
    }
   ],
   "source": [
    "print(a.index(\"N\",1))"
   ]
  },
  {
   "cell_type": "code",
   "execution_count": 5,
   "id": "69dd7696-73a1-4670-8d90-4552a9bab419",
   "metadata": {},
   "outputs": [
    {
     "name": "stdout",
     "output_type": "stream",
     "text": [
      "['M', 'R', 'N', 46, 48, 49, 50, 45, 45, 'N']\n",
      "['M', 'R', 'N', 46, 48, 49, 50, 45, 45, 'N', 9]\n"
     ]
    }
   ],
   "source": [
    "b=a.copy()\n",
    "print(b)\n",
    "b.append(9)\n",
    "print(b)"
   ]
  },
  {
   "cell_type": "code",
   "execution_count": 6,
   "id": "4bec2a1b-9d05-4a56-9c2f-b609a127eeef",
   "metadata": {},
   "outputs": [
    {
     "name": "stdout",
     "output_type": "stream",
     "text": [
      "['M', 'R', 'N', 46, 48, 49, 50, 45, 45, 'N', 'M', 'R', 'N', 46, 48, 49, 50, 45, 45, 'N', 9]\n"
     ]
    }
   ],
   "source": [
    "a.extend(b)\n",
    "print(a)"
   ]
  },
  {
   "cell_type": "code",
   "execution_count": 7,
   "id": "2bb2ece8-1b3e-4c29-8dc2-c6d1aa0183d8",
   "metadata": {},
   "outputs": [
    {
     "name": "stdout",
     "output_type": "stream",
     "text": [
      "['M', 200, 'R', 'N', 46, 48, 49, 50, 45, 45, 'N', 9]\n"
     ]
    }
   ],
   "source": [
    "b.insert(1,200)\n",
    "print(b)"
   ]
  },
  {
   "cell_type": "code",
   "execution_count": 26,
   "id": "ccaa62b8-7ce9-4790-9ffe-7d2ee0eb639c",
   "metadata": {},
   "outputs": [
    {
     "name": "stdout",
     "output_type": "stream",
     "text": [
      "1\n"
     ]
    }
   ],
   "source": [
    "print(b.index(200,0)) #written the position of 200 form starting."
   ]
  },
  {
   "cell_type": "code",
   "execution_count": null,
   "id": "47bdc99d-bc90-4f41-bdb5-a7eea7a6c9f9",
   "metadata": {},
   "outputs": [],
   "source": []
  },
  {
   "cell_type": "code",
   "execution_count": null,
   "id": "6a6a7bb6-886b-4aae-9cb6-acabfe9a2709",
   "metadata": {},
   "outputs": [],
   "source": []
  }
 ],
 "metadata": {
  "kernelspec": {
   "display_name": "Python [conda env:base] *",
   "language": "python",
   "name": "conda-base-py"
  },
  "language_info": {
   "codemirror_mode": {
    "name": "ipython",
    "version": 3
   },
   "file_extension": ".py",
   "mimetype": "text/x-python",
   "name": "python",
   "nbconvert_exporter": "python",
   "pygments_lexer": "ipython3",
   "version": "3.12.7"
  }
 },
 "nbformat": 4,
 "nbformat_minor": 5
}
