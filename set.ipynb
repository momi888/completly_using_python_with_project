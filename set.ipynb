{
 "cells": [
  {
   "cell_type": "code",
   "execution_count": 1,
   "id": "8ba85105-eea3-4d79-ade3-924c414bf6cd",
   "metadata": {},
   "outputs": [
    {
     "name": "stdout",
     "output_type": "stream",
     "text": [
      "{'a', 3, 4, 'mohit'}\n",
      "<class 'set'>\n"
     ]
    }
   ],
   "source": [
    "A=set([4,\"mohit\",3,\"a\",4,3])\n",
    "print(A)\n",
    "print(type(A))"
   ]
  },
  {
   "cell_type": "code",
   "execution_count": 2,
   "id": "df4e3adf-206e-454c-8516-44ace938a33f",
   "metadata": {},
   "outputs": [
    {
     "name": "stdout",
     "output_type": "stream",
     "text": [
      "{3, 4, 'MOHIT', 'mohit', 'a'}\n"
     ]
    }
   ],
   "source": [
    "A.update([\"mohit\",\"MOHIT\",4,4,3,3])\n",
    "print(A)"
   ]
  },
  {
   "cell_type": "code",
   "execution_count": 3,
   "id": "9a3d9029-98d3-408e-898f-fd9e492f205c",
   "metadata": {},
   "outputs": [
    {
     "name": "stdout",
     "output_type": "stream",
     "text": [
      "{3, 4, 'MOHIT', 'mohit', 'a'}\n"
     ]
    }
   ],
   "source": [
    "A.discard(2)\n",
    "print(A)"
   ]
  },
  {
   "cell_type": "code",
   "execution_count": 4,
   "id": "01bdcc26-db33-4f0a-a5bd-5db3b8c26e1f",
   "metadata": {},
   "outputs": [
    {
     "name": "stdout",
     "output_type": "stream",
     "text": [
      "{4, 'MOHIT', 'mohit', 'a'}\n"
     ]
    }
   ],
   "source": [
    "A.pop()\n",
    "print(A)"
   ]
  },
  {
   "cell_type": "code",
   "execution_count": 5,
   "id": "29187447-677d-4492-ba6a-9180dd9faaf9",
   "metadata": {},
   "outputs": [
    {
     "name": "stdout",
     "output_type": "stream",
     "text": [
      "Original Set: {1, 2, 3, 4, 5}\n",
      "Copied Set: {1, 2, 3, 4, 5}\n",
      "\n",
      "After modifying copied_set:\n",
      "Original Set: {1, 2, 3, 4, 5}\n",
      "Copied Set: {1, 2, 3, 4, 5, 6}\n"
     ]
    }
   ],
   "source": [
    "# Original set\n",
    "original_set = {1, 2, 3, 4, 5}\n",
    "\n",
    "# Create a copy of the set using the copy() method\n",
    "copied_set = original_set.copy()\n",
    "\n",
    "# Print both sets to verify\n",
    "print(\"Original Set:\", original_set)\n",
    "print(\"Copied Set:\", copied_set)\n",
    "\n",
    "# Modify the copied set (this will not affect the original_set)\n",
    "copied_set.add(6)\n",
    "\n",
    "print(\"\\nAfter modifying copied_set:\")\n",
    "print(\"Original Set:\", original_set)\n",
    "print(\"Copied Set:\", copied_set)"
   ]
  },
  {
   "cell_type": "code",
   "execution_count": null,
   "id": "8698d0f8-d402-475c-90ea-2bd5a59677e6",
   "metadata": {},
   "outputs": [],
   "source": []
  },
  {
   "cell_type": "code",
   "execution_count": null,
   "id": "39e3020b-6764-43a0-9c94-6c1f217ea26c",
   "metadata": {},
   "outputs": [],
   "source": []
  }
 ],
 "metadata": {
  "kernelspec": {
   "display_name": "Python [conda env:base] *",
   "language": "python",
   "name": "conda-base-py"
  },
  "language_info": {
   "codemirror_mode": {
    "name": "ipython",
    "version": 3
   },
   "file_extension": ".py",
   "mimetype": "text/x-python",
   "name": "python",
   "nbconvert_exporter": "python",
   "pygments_lexer": "ipython3",
   "version": "3.12.7"
  }
 },
 "nbformat": 4,
 "nbformat_minor": 5
}
