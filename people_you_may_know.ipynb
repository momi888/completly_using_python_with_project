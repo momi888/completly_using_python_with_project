{
 "cells": [
  {
   "cell_type": "code",
   "execution_count": 1,
   "id": "5f87c089-bd2f-4778-a61a-985bf75aaf92",
   "metadata": {},
   "outputs": [],
   "source": [
    "import json"
   ]
  },
  {
   "cell_type": "code",
   "execution_count": 2,
   "id": "62cc56d6-12e6-4c68-ac13-155dfcf9535f",
   "metadata": {},
   "outputs": [],
   "source": [
    "def load_data(filename):\n",
    "    with open(filename,\"r\") as file:\n",
    "        return json.load(file)"
   ]
  },
  {
   "cell_type": "code",
   "execution_count": 17,
   "id": "41a9d2c9-750a-4931-9207-f9a597cf3ecd",
   "metadata": {},
   "outputs": [
    {
     "name": "stdout",
     "output_type": "stream",
     "text": [
      "people_you_may_know for user3:[8, 2, 5, 20, 21, 16, 17]\n"
     ]
    }
   ],
   "source": [
    "def find_people_you_may_know(user_id,data):\n",
    "    user_friends={}\n",
    "    for user in data['users']:\n",
    "        user_friends[user['id']]=set(user['friend'])\n",
    "    if user_id not in user_friends:\n",
    "        return[]\n",
    "    direct_friends=user_friends[user_id]\n",
    "    suggestion={}\n",
    "    for friend in direct_friends:\n",
    "        for friend_of_friend in user_friends.get(friend,[]):\n",
    "            if friend_of_friend!=user_id and friend_of_friend not in direct_friends:\n",
    "                suggestion[friend_of_friend]=suggestion.get(friend_of_friend,0)+1\n",
    "    sorted_suggestions=sorted(suggestion.items(),key=lambda x:-x[1])\n",
    "    return [user_id for user_id,_ in sorted_suggestions]\n",
    "        \n",
    "    \n",
    "user_id=3\n",
    "data=load_data(\"massive_dataset_for_people_you_know_me.json\")\n",
    "rcc=find_people_you_may_know(user_id,data)\n",
    "print(f\"people_you_may_know for user{user_id}:{rcc}\")"
   ]
  },
  {
   "cell_type": "code",
   "execution_count": null,
   "id": "d3ed0cf4-62af-4e45-ad96-f7742e05e685",
   "metadata": {},
   "outputs": [],
   "source": []
  }
 ],
 "metadata": {
  "kernelspec": {
   "display_name": "Python [conda env:base] *",
   "language": "python",
   "name": "conda-base-py"
  },
  "language_info": {
   "codemirror_mode": {
    "name": "ipython",
    "version": 3
   },
   "file_extension": ".py",
   "mimetype": "text/x-python",
   "name": "python",
   "nbconvert_exporter": "python",
   "pygments_lexer": "ipython3",
   "version": "3.12.7"
  }
 },
 "nbformat": 4,
 "nbformat_minor": 5
}
