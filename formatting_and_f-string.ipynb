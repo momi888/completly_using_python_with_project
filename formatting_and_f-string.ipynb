{
 "cells": [
  {
   "cell_type": "code",
   "execution_count": 4,
   "id": "aed6f279-917b-4335-9d19-c4924e80a942",
   "metadata": {},
   "outputs": [],
   "source": [
    "Name=\"Mohit\"\n",
    "age=28\n",
    "position=\"Data Analyst\"\n",
    "CGPA=7.545"
   ]
  },
  {
   "cell_type": "code",
   "execution_count": 6,
   "id": "f21e309f-9e93-49f6-9254-6342e2f2562f",
   "metadata": {},
   "outputs": [
    {
     "name": "stdout",
     "output_type": "stream",
     "text": [
      "my name is Mohit      my age is 28         and my position is Data Analyst\n"
     ]
    }
   ],
   "source": [
    "print(f\"my name is {Name:<10} my age is {age:<10} and my position is {position:^10}\")"
   ]
  },
  {
   "cell_type": "code",
   "execution_count": 35,
   "id": "1b4cc755-2d81-40c5-85bc-c6c7b28e990c",
   "metadata": {},
   "outputs": [
    {
     "name": "stdout",
     "output_type": "stream",
     "text": [
      "my cgpa is:7.5\n"
     ]
    }
   ],
   "source": [
    "print(f\"my cgpa is:{CGPA:.1f}\")"
   ]
  },
  {
   "cell_type": "code",
   "execution_count": 57,
   "id": "e3f9fee2-1e80-44dc-b4f1-00c3fda9c176",
   "metadata": {},
   "outputs": [
    {
     "name": "stdout",
     "output_type": "stream",
     "text": [
      "Mohit-----\n",
      "++++++Name\n",
      "===Name===\n"
     ]
    }
   ],
   "source": [
    "print(f\"{Name:-<10}\")\n",
    "print(f\"{'Name':+>10}\")\n",
    "print(f\"{\"Name\":=^10}\")"
   ]
  },
  {
   "cell_type": "code",
   "execution_count": null,
   "id": "7ec6ac3b-f096-45e6-a45f-e4247784918f",
   "metadata": {},
   "outputs": [],
   "source": []
  }
 ],
 "metadata": {
  "kernelspec": {
   "display_name": "Python [conda env:base] *",
   "language": "python",
   "name": "conda-base-py"
  },
  "language_info": {
   "codemirror_mode": {
    "name": "ipython",
    "version": 3
   },
   "file_extension": ".py",
   "mimetype": "text/x-python",
   "name": "python",
   "nbconvert_exporter": "python",
   "pygments_lexer": "ipython3",
   "version": "3.12.7"
  }
 },
 "nbformat": 4,
 "nbformat_minor": 5
}
