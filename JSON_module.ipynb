{
 "cells": [
  {
   "cell_type": "code",
   "execution_count": 7,
   "id": "df7a52ff-cef3-48e4-8174-397668eb25a6",
   "metadata": {},
   "outputs": [
    {
     "name": "stdout",
     "output_type": "stream",
     "text": [
      "<class 'dict'>\n"
     ]
    }
   ],
   "source": [
    "A={\"Name\":[\"M\",\"K\",\"R\",\"G\"],\n",
    "   \"language\":[\"c++\",\"c\",\"python,java\"],\n",
    "   \"class\":[\"12th\",\"11th\",\"10th\",\"graduation\"]}\n",
    "print(type(A))"
   ]
  },
  {
   "cell_type": "code",
   "execution_count": 3,
   "id": "054d55cb-e922-4850-964c-48998a05af10",
   "metadata": {},
   "outputs": [
    {
     "name": "stdout",
     "output_type": "stream",
     "text": [
      "{\"Name\": [\"M\", \"K\", \"R\", \"G\"], \"language\": [\"c++\", \"c\", \"python,java\"], \"class\": [\"12th\", \"11th\", \"10th\", \"graduation\"]}\n",
      "<class 'str'>\n",
      "{\n",
      "    \"Name\": [\n",
      "        \"M\",\n",
      "        \"K\",\n",
      "        \"R\",\n",
      "        \"G\"\n",
      "    ],\n",
      "    \"language\": [\n",
      "        \"c++\",\n",
      "        \"c\",\n",
      "        \"python,java\"\n",
      "    ],\n",
      "    \"class\": [\n",
      "        \"12th\",\n",
      "        \"11th\",\n",
      "        \"10th\",\n",
      "        \"graduation\"\n",
      "    ]\n",
      "}\n",
      "<class 'str'>\n"
     ]
    }
   ],
   "source": [
    "#1.\n",
    "s=json.dumps(A)\n",
    "print(s)\n",
    "print(type(s))\n",
    "#2.\n",
    "s=json.dumps(A,indent=4)\n",
    "print(s)\n",
    "print(type(s))"
   ]
  },
  {
   "cell_type": "code",
   "execution_count": 4,
   "id": "56bf6469-4709-4871-af17-4bcc34ebaf33",
   "metadata": {},
   "outputs": [
    {
     "name": "stdout",
     "output_type": "stream",
     "text": [
      "<class 'dict'>\n",
      "{'Name': ['M', 'K', 'R', 'G'], 'language': ['c++', 'c', 'python,java'], 'class': ['12th', '11th', '10th', 'graduation']}\n"
     ]
    }
   ],
   "source": [
    "b=json.loads(s)\n",
    "print(type(b))\n",
    "print(b)"
   ]
  },
  {
   "cell_type": "code",
   "execution_count": 5,
   "id": "0c2e6ff7-0599-4c3e-937a-ed31902345d4",
   "metadata": {},
   "outputs": [],
   "source": [
    "with open(\"data.json\",\"w\")as file:\n",
    "    json.dump(A,file)"
   ]
  },
  {
   "cell_type": "code",
   "execution_count": 6,
   "id": "c0ef2814-2fb2-4861-93e2-8c04a419705f",
   "metadata": {},
   "outputs": [
    {
     "name": "stdout",
     "output_type": "stream",
     "text": [
      "{'Name': ['M', 'K', 'R', 'G'], 'language': ['c++', 'c', 'python,java'], 'class': ['12th', '11th', '10th', 'graduation']}\n"
     ]
    }
   ],
   "source": [
    "with open(\"data.json\",\"r\") as file:\n",
    "    \n",
    "    print(json.load(file))"
   ]
  },
  {
   "cell_type": "code",
   "execution_count": null,
   "id": "0ab841dc-d9c3-4a35-aef3-109ef0cdb02b",
   "metadata": {},
   "outputs": [],
   "source": []
  }
 ],
 "metadata": {
  "kernelspec": {
   "display_name": "Python [conda env:base] *",
   "language": "python",
   "name": "conda-base-py"
  },
  "language_info": {
   "codemirror_mode": {
    "name": "ipython",
    "version": 3
   },
   "file_extension": ".py",
   "mimetype": "text/x-python",
   "name": "python",
   "nbconvert_exporter": "python",
   "pygments_lexer": "ipython3",
   "version": "3.12.7"
  }
 },
 "nbformat": 4,
 "nbformat_minor": 5
}
