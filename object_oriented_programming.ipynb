{
 "cells": [
  {
   "cell_type": "code",
   "execution_count": 13,
   "id": "12728f22-db5f-4270-892a-2ce8cbf81087",
   "metadata": {},
   "outputs": [
    {
     "name": "stdout",
     "output_type": "stream",
     "text": [
      "MOHIT\n",
      "<__main__.person object at 0x000001FF367019A0>\n",
      "My Name is MOHIT,my Ocuption is Army,and My net worth is $300000\n",
      "My Name is ROHIT,my Ocuption is Software_devloper,and My net worth is $500000\n"
     ]
    }
   ],
   "source": [
    "class person():\n",
    "    Name='MOHIT'\n",
    "    Ocuption='Army'\n",
    "    NetWorth=300000\n",
    "    def info(self):\n",
    "        print(f\"My Name is {self.Name},my Ocuption is {self.Ocuption},and My net worth is ${self.NetWorth}\")\n",
    "a=person()\n",
    "b=person()\n",
    "b.Name=\"ROHIT\"\n",
    "b.Ocuption=\"Software_devloper\"\n",
    "b.NetWorth=500000\n",
    "print(a.Name)\n",
    "print(a)\n",
    "a.info()\n",
    "b.info()"
   ]
  },
  {
   "cell_type": "code",
   "execution_count": 11,
   "id": "a6561128-4555-4778-a627-f73f0daedda7",
   "metadata": {},
   "outputs": [
    {
     "name": "stdout",
     "output_type": "stream",
     "text": [
      "Rohit which is a data analyst in a company with networth 60000\n"
     ]
    }
   ],
   "source": [
    "def person(a=\"Mohit\",b=\"software developer\",c=300000):\n",
    "    print(f'{a} which is a {b} in a company with networth {c}')\n",
    "person(a=\"Rohit\",b=\"data analyst\",c=60000)\n",
    "    "
   ]
  },
  {
   "cell_type": "code",
   "execution_count": null,
   "id": "3830cb69-763e-47db-b4b3-0d8749e34d85",
   "metadata": {},
   "outputs": [],
   "source": []
  }
 ],
 "metadata": {
  "kernelspec": {
   "display_name": "Python [conda env:base] *",
   "language": "python",
   "name": "conda-base-py"
  },
  "language_info": {
   "codemirror_mode": {
    "name": "ipython",
    "version": 3
   },
   "file_extension": ".py",
   "mimetype": "text/x-python",
   "name": "python",
   "nbconvert_exporter": "python",
   "pygments_lexer": "ipython3",
   "version": "3.12.7"
  }
 },
 "nbformat": 4,
 "nbformat_minor": 5
}
