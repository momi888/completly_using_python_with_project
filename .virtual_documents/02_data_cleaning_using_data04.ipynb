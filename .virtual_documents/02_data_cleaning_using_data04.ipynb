import json


#clean data 
#01_remove missing value first:
def clean_data(data):
    data['users']=[user for user in data['users'] if user['name'].strip()]
#02_remove duplicate:
    for user in data['users']:
        user['friends']=list(set(user['friends']))
#03_remove users with no_friends and no_like_pages
    cleaned_user=[]
    for user in data['users']:
        if user['friends'] or user['liked_pages']:
            cleaned_user.append(user)
    data['users']=cleaned_user
#04_remove duplicate pages based on 'id'
    unique_pages=[]
    seen_ids=set()
    for page in data['pages']:
        if page['id'] not in seen_ids:
            unique_pages.append(page)
            seen_ids.add(page['id'])
    data['pages']=unique_pages
    return data


#load data 
def load_data(filename):
    with open(filename,"r") as file:
        return json.load(file)


G=load_data("data4.json")
V=clean_data(G)
print(V)
print(G)
#make a new clean_data file
with open("clean_data04.json","w") as file02:
    json.dump(V,file02,indent=4)



