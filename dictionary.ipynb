{
 "cells": [
  {
   "cell_type": "code",
   "execution_count": 1,
   "id": "2c670ee1-90ff-437f-b871-dde4261395b0",
   "metadata": {},
   "outputs": [
    {
     "name": "stdout",
     "output_type": "stream",
     "text": [
      "<class 'dict'>\n"
     ]
    }
   ],
   "source": [
    "data={\"Name\":\"Mohit\",\"age\":23,\"Marks\":98,\"Marks2\":65}\n",
    "print(type(data))"
   ]
  },
  {
   "cell_type": "code",
   "execution_count": 2,
   "id": "d948d5cf-ca4b-44a8-960f-503f4095eaae",
   "metadata": {},
   "outputs": [
    {
     "data": {
      "text/plain": [
       "dict_keys(['Name', 'age', 'Marks', 'Marks2'])"
      ]
     },
     "execution_count": 2,
     "metadata": {},
     "output_type": "execute_result"
    }
   ],
   "source": [
    "data.keys()"
   ]
  },
  {
   "cell_type": "code",
   "execution_count": 3,
   "id": "74b7866c-ab76-4d07-84ad-ff7553e92542",
   "metadata": {},
   "outputs": [
    {
     "name": "stdout",
     "output_type": "stream",
     "text": [
      "None\n"
     ]
    }
   ],
   "source": [
    "print(data.get(\"Name4\"))"
   ]
  },
  {
   "cell_type": "code",
   "execution_count": 4,
   "id": "8e4de407-1246-4606-9b66-c5bee4c67deb",
   "metadata": {},
   "outputs": [
    {
     "name": "stdout",
     "output_type": "stream",
     "text": [
      "dict_values(['Mohit', 23, 98, 65])\n"
     ]
    }
   ],
   "source": [
    "print(data.values())"
   ]
  },
  {
   "cell_type": "code",
   "execution_count": 5,
   "id": "f703791f-4ec4-4bd5-9015-dfbbb0a5d44d",
   "metadata": {},
   "outputs": [
    {
     "name": "stdout",
     "output_type": "stream",
     "text": [
      "dict_items([('Name', 'Mohit'), ('age', 23), ('Marks', 98), ('Marks2', 65)])\n"
     ]
    }
   ],
   "source": [
    "print(data.items())"
   ]
  },
  {
   "cell_type": "code",
   "execution_count": 6,
   "id": "de472101-311a-47d2-95aa-2ac33aaf8d6d",
   "metadata": {},
   "outputs": [
    {
     "name": "stdout",
     "output_type": "stream",
     "text": [
      "{'Name': 'K', 'age': 20, 'Marks': 56, 'Marks2': 65, 'language': 'c'}\n"
     ]
    }
   ],
   "source": [
    "data.update({\"Name\":\"K\",\"age\":20,\"Marks\":56,\"language\":\"c\"})\n",
    "print(data)"
   ]
  },
  {
   "cell_type": "code",
   "execution_count": 7,
   "id": "bea4e64c-b4a1-411e-bd9d-bc4da9002288",
   "metadata": {},
   "outputs": [
    {
     "name": "stdout",
     "output_type": "stream",
     "text": [
      "{'Name': 'K', 'age': 34, 'Marks': 56, 'Marks2': 65, 'language': 'c'}\n"
     ]
    }
   ],
   "source": [
    "data[\"age\"]=34\n",
    "print(data)"
   ]
  },
  {
   "cell_type": "code",
   "execution_count": 8,
   "id": "b4b850fb-3aae-4e4a-8c1f-28b3f49304ad",
   "metadata": {},
   "outputs": [
    {
     "data": {
      "text/plain": [
       "34"
      ]
     },
     "execution_count": 8,
     "metadata": {},
     "output_type": "execute_result"
    }
   ],
   "source": [
    "data.pop(\"age\")"
   ]
  },
  {
   "cell_type": "code",
   "execution_count": 9,
   "id": "a8616d36-d077-490f-bdb9-0523dbddea0f",
   "metadata": {},
   "outputs": [
    {
     "name": "stdout",
     "output_type": "stream",
     "text": [
      "{'Name': 'K', 'Marks': 56, 'Marks2': 65, 'language': 'c'}\n"
     ]
    }
   ],
   "source": [
    "print(data)"
   ]
  },
  {
   "cell_type": "code",
   "execution_count": 10,
   "id": "104aebd5-29f8-44ce-8523-6bbee41b7652",
   "metadata": {},
   "outputs": [
    {
     "name": "stdout",
     "output_type": "stream",
     "text": [
      "{'Name': 'K', 'Marks': 56, 'Marks2': 65}\n"
     ]
    }
   ],
   "source": [
    "data.popitem()\n",
    "print(data)"
   ]
  },
  {
   "cell_type": "code",
   "execution_count": 11,
   "id": "518fcafe-7fbc-4b76-af4e-e96100c04b20",
   "metadata": {},
   "outputs": [
    {
     "data": {
      "text/plain": [
       "'c'"
      ]
     },
     "execution_count": 11,
     "metadata": {},
     "output_type": "execute_result"
    }
   ],
   "source": [
    "data.setdefault(\"language\",\"c\")"
   ]
  },
  {
   "cell_type": "code",
   "execution_count": 12,
   "id": "2487947c-875d-4f01-ab2f-a02c17ba219e",
   "metadata": {},
   "outputs": [
    {
     "name": "stdout",
     "output_type": "stream",
     "text": [
      "{'Name': 'K', 'Marks': 56, 'Marks2': 65, 'language': 'c'}\n"
     ]
    }
   ],
   "source": [
    "print(data)"
   ]
  },
  {
   "cell_type": "code",
   "execution_count": 13,
   "id": "f41c6c65-99d0-47d1-a422-746884f1232c",
   "metadata": {},
   "outputs": [
    {
     "name": "stdout",
     "output_type": "stream",
     "text": [
      "56\n"
     ]
    }
   ],
   "source": [
    "print(data.setdefault(\"Marks\",65))"
   ]
  },
  {
   "cell_type": "code",
   "execution_count": 14,
   "id": "a09e5819-184a-464f-ad65-cf4e08309151",
   "metadata": {},
   "outputs": [
    {
     "name": "stdout",
     "output_type": "stream",
     "text": [
      "{'Name': 'K', 'Marks': 56, 'Marks2': 65, 'language': 'c'}\n"
     ]
    }
   ],
   "source": [
    "print(data)"
   ]
  },
  {
   "cell_type": "code",
   "execution_count": 15,
   "id": "16f12323-e86c-435b-a9b9-2b7ab6a16c7b",
   "metadata": {},
   "outputs": [
    {
     "name": "stdout",
     "output_type": "stream",
     "text": [
      "90\n"
     ]
    }
   ],
   "source": [
    "print(data.setdefault(\"marks\",90))"
   ]
  },
  {
   "cell_type": "code",
   "execution_count": 33,
   "id": "319906d9-c97d-476c-bee0-7ec32e5087c2",
   "metadata": {},
   "outputs": [
    {
     "name": "stdout",
     "output_type": "stream",
     "text": [
      "{'Name': 'K', 'Marks': 56, 'Marks2': 65, 'language': 'c', 'marks': 90}\n"
     ]
    }
   ],
   "source": [
    "print(data)"
   ]
  },
  {
   "cell_type": "code",
   "execution_count": null,
   "id": "0020a517-f630-4902-9e4a-7b79e55ec745",
   "metadata": {},
   "outputs": [],
   "source": []
  }
 ],
 "metadata": {
  "kernelspec": {
   "display_name": "Python [conda env:base] *",
   "language": "python",
   "name": "conda-base-py"
  },
  "language_info": {
   "codemirror_mode": {
    "name": "ipython",
    "version": 3
   },
   "file_extension": ".py",
   "mimetype": "text/x-python",
   "name": "python",
   "nbconvert_exporter": "python",
   "pygments_lexer": "ipython3",
   "version": "3.12.7"
  }
 },
 "nbformat": 4,
 "nbformat_minor": 5
}
