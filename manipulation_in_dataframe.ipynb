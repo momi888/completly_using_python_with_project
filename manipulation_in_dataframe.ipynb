{
 "cells": [
  {
   "cell_type": "code",
   "execution_count": 2,
   "id": "9ea3a58a-c52c-43a3-875f-1ad3465f9488",
   "metadata": {},
   "outputs": [],
   "source": [
    "import pandas as pd"
   ]
  },
  {
   "cell_type": "code",
   "execution_count": 8,
   "id": "560b64a4-f075-4bee-ab08-b7a72107eb1c",
   "metadata": {},
   "outputs": [
    {
     "name": "stdout",
     "output_type": "stream",
     "text": [
      "  Name  Score\n",
      "0    M     20\n",
      "1    K     30\n",
      "2    P     40\n",
      "3    H     50\n"
     ]
    }
   ],
   "source": [
    "data={'Name':[\"M\",\"K\",\"P\",\"H\"],\n",
    "      \"Score\":[20,30,40,50]}\n",
    "df=pd.DataFrame(data)\n",
    "print(df)"
   ]
  },
  {
   "cell_type": "code",
   "execution_count": 21,
   "id": "11203afd-4d32-4ed2-8620-cb5608782667",
   "metadata": {},
   "outputs": [
    {
     "name": "stdout",
     "output_type": "stream",
     "text": [
      "  Name  Score result\n",
      "0    M     20   pass\n",
      "1    K     30   pass\n",
      "2    P     40   pass\n",
      "3    H     50   pass\n"
     ]
    }
   ],
   "source": [
    "df[\"result\"]=df[\"Score\"].apply(lambda x:'pass'\n",
    "if x>=20 else \"Fail\")\n",
    "print(df)"
   ]
  },
  {
   "cell_type": "code",
   "execution_count": null,
   "id": "bff7c938-a2a2-458a-9256-fb64fa1d1d6c",
   "metadata": {},
   "outputs": [],
   "source": []
  }
 ],
 "metadata": {
  "kernelspec": {
   "display_name": "Python [conda env:base] *",
   "language": "python",
   "name": "conda-base-py"
  },
  "language_info": {
   "codemirror_mode": {
    "name": "ipython",
    "version": 3
   },
   "file_extension": ".py",
   "mimetype": "text/x-python",
   "name": "python",
   "nbconvert_exporter": "python",
   "pygments_lexer": "ipython3",
   "version": "3.12.7"
  }
 },
 "nbformat": 4,
 "nbformat_minor": 5
}
