{
 "cells": [
  {
   "cell_type": "code",
   "execution_count": 2,
   "id": "bcdef3ae-6533-42db-b932-abda86eb0f1b",
   "metadata": {},
   "outputs": [],
   "source": [
    "import json"
   ]
  },
  {
   "cell_type": "code",
   "execution_count": 3,
   "id": "c5af068c-330d-4d76-8f16-2a1b52a3aedd",
   "metadata": {},
   "outputs": [],
   "source": [
    "#clean data \n",
    "#01_remove missing value first:\n",
    "def clean_data(data):\n",
    "    data['users']=[user for user in data['users'] if user['name'].strip()]\n",
    "#02_remove duplicate:\n",
    "    for user in data['users']:\n",
    "        user['friends']=list(set(user['friends']))\n",
    "#03_remove users with no_friends and no_like_pages\n",
    "    cleaned_user=[]\n",
    "    for user in data['users']:\n",
    "        if user['friends'] or user['liked_pages']:\n",
    "            cleaned_user.append(user)\n",
    "    data['users']=cleaned_user\n",
    "#04_remove duplicate pages based on 'id'\n",
    "    unique_pages=[]\n",
    "    seen_ids=set()\n",
    "    for page in data['pages']:\n",
    "        if page['id'] not in seen_ids:\n",
    "            unique_pages.append(page)\n",
    "            seen_ids.add(page['id'])\n",
    "    data['pages']=unique_pages\n",
    "    return data"
   ]
  },
  {
   "cell_type": "code",
   "execution_count": 4,
   "id": "5aa7cc3d-6164-4f87-8351-50c647118251",
   "metadata": {},
   "outputs": [],
   "source": [
    "#load data \n",
    "def load_data(filename):\n",
    "    with open(filename,\"r\") as file:\n",
    "        return json.load(file)"
   ]
  },
  {
   "cell_type": "code",
   "execution_count": 5,
   "id": "8d19026c-e2c5-4a1e-8ffc-169ba75e26ed",
   "metadata": {},
   "outputs": [
    {
     "name": "stdout",
     "output_type": "stream",
     "text": [
      "{'users': [{'id': 1, 'name': 'Amit', 'friends': [2, 3], 'liked_pages': [101]}, {'id': 2, 'name': 'Priya', 'friends': [1, 4], 'liked_pages': [102]}, {'id': 4, 'name': 'Sara', 'friends': [2], 'liked_pages': [104]}], 'pages': [{'id': 101, 'name': 'Python Developers'}, {'id': 102, 'name': 'Data Science Enthusiasts'}, {'id': 103, 'name': 'AI & ML Community'}, {'id': 104, 'name': 'Web Dev Hub'}]}\n",
      "{'users': [{'id': 1, 'name': 'Amit', 'friends': [2, 3], 'liked_pages': [101]}, {'id': 2, 'name': 'Priya', 'friends': [1, 4], 'liked_pages': [102]}, {'id': 4, 'name': 'Sara', 'friends': [2], 'liked_pages': [104]}], 'pages': [{'id': 101, 'name': 'Python Developers'}, {'id': 102, 'name': 'Data Science Enthusiasts'}, {'id': 103, 'name': 'AI & ML Community'}, {'id': 104, 'name': 'Web Dev Hub'}]}\n"
     ]
    }
   ],
   "source": [
    "G=load_data(\"data4.json\")\n",
    "V=clean_data(G)\n",
    "print(V)\n",
    "print(G)\n",
    "#make a new clean_data file\n",
    "with open(\"clean_data04.json\",\"w\") as file02:\n",
    "    json.dump(V,file02,indent=4)"
   ]
  },
  {
   "cell_type": "code",
   "execution_count": null,
   "id": "71f000df-06a0-4a22-9282-b010e4e6ba8b",
   "metadata": {},
   "outputs": [],
   "source": []
  }
 ],
 "metadata": {
  "kernelspec": {
   "display_name": "Python [conda env:base] *",
   "language": "python",
   "name": "conda-base-py"
  },
  "language_info": {
   "codemirror_mode": {
    "name": "ipython",
    "version": 3
   },
   "file_extension": ".py",
   "mimetype": "text/x-python",
   "name": "python",
   "nbconvert_exporter": "python",
   "pygments_lexer": "ipython3",
   "version": "3.12.7"
  }
 },
 "nbformat": 4,
 "nbformat_minor": 5
}
